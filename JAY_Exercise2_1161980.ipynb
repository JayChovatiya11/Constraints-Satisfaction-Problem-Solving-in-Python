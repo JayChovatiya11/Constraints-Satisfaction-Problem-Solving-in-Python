{
 "cells": [
  {
   "cell_type": "code",
   "execution_count": 1,
   "id": "27939ff0",
   "metadata": {},
   "outputs": [
    {
     "name": "stdout",
     "output_type": "stream",
     "text": [
      "Requirement already satisfied: python-constraint in ./opt/anaconda3/lib/python3.9/site-packages (1.4.0)\n",
      "Note: you may need to restart the kernel to use updated packages.\n"
     ]
    }
   ],
   "source": [
    "pip install python-constraint"
   ]
  },
  {
   "cell_type": "code",
   "execution_count": 2,
   "id": "4c3518d0",
   "metadata": {},
   "outputs": [
    {
     "name": "stdout",
     "output_type": "stream",
     "text": [
      "Agatha killed herself.\n"
     ]
    }
   ],
   "source": [
    "from constraint import Problem, AllDifferentConstraint\n",
    "\n",
    "def killed_agatha():\n",
    "    problem = Problem()\n",
    "# Define variables and domains\n",
    "    problem.addVariables(['Agatha', 'Butler', 'Charles'], ['A', 'B', 'C'])\n",
    "# Add all constraints\n",
    "    problem.addConstraint(lambda a, b: b != 'C' and (a == 'A' or a != b), ('Agatha', 'Butler'))\n",
    "    problem.addConstraint(lambda a, b, c: (a == 'A' and b != 'Butler') or (b == 'Butler' and a != 'Agatha'), ('Agatha', 'Butler', 'Charles'))\n",
    "    problem.addConstraint(AllDifferentConstraint())\n",
    "    problem.addConstraint(lambda a: a == 'A', ('Agatha',))\n",
    "    problem.addConstraint(lambda c: c != 'A', ('Charles',))\n",
    "# Solving the problem by using the getsolution function\n",
    "    solutions = problem.getSolutions()\n",
    "    if not solutions:\n",
    "        print('No solution found.')\n",
    "    else:\n",
    "        # Check each soultion that who is the killed agatha\n",
    "        for solution in solutions:\n",
    "           if solution['Agatha'] == 'A':\n",
    "                print('Agatha killed herself.')\n",
    "           elif solution['Butler'] == 'B':\n",
    "                print('The Butler killed Agatha.')\n",
    "           elif solution['Charles'] == 'C':\n",
    "                print('Charles killed Agatha.')\n",
    "\n",
    "killed_agatha()\n"
   ]
  },
  {
   "cell_type": "code",
   "execution_count": null,
   "id": "c8b142b3",
   "metadata": {},
   "outputs": [],
   "source": []
  }
 ],
 "metadata": {
  "kernelspec": {
   "display_name": "Python 3 (ipykernel)",
   "language": "python",
   "name": "python3"
  },
  "language_info": {
   "codemirror_mode": {
    "name": "ipython",
    "version": 3
   },
   "file_extension": ".py",
   "mimetype": "text/x-python",
   "name": "python",
   "nbconvert_exporter": "python",
   "pygments_lexer": "ipython3",
   "version": "3.9.13"
  }
 },
 "nbformat": 4,
 "nbformat_minor": 5
}
